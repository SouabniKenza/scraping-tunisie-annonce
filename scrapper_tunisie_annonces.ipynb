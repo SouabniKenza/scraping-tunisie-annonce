{
  "nbformat": 4,
  "nbformat_minor": 0,
  "metadata": {
    "colab": {
      "provenance": []
    },
    "kernelspec": {
      "name": "python3",
      "display_name": "Python 3"
    },
    "language_info": {
      "name": "python"
    }
  },
  "cells": [
    {
      "cell_type": "code",
      "source": [
        "pip install requests beautifulsoup4\n"
      ],
      "metadata": {
        "colab": {
          "base_uri": "https://localhost:8080/"
        },
        "id": "2ar8gguyRn9U",
        "outputId": "8815eff2-0f51-41c0-e367-10564ea35512"
      },
      "execution_count": 87,
      "outputs": [
        {
          "output_type": "stream",
          "name": "stdout",
          "text": [
            "Requirement already satisfied: requests in /usr/local/lib/python3.11/dist-packages (2.32.3)\n",
            "Requirement already satisfied: beautifulsoup4 in /usr/local/lib/python3.11/dist-packages (4.13.3)\n",
            "Requirement already satisfied: charset-normalizer<4,>=2 in /usr/local/lib/python3.11/dist-packages (from requests) (3.4.1)\n",
            "Requirement already satisfied: idna<4,>=2.5 in /usr/local/lib/python3.11/dist-packages (from requests) (3.10)\n",
            "Requirement already satisfied: urllib3<3,>=1.21.1 in /usr/local/lib/python3.11/dist-packages (from requests) (2.3.0)\n",
            "Requirement already satisfied: certifi>=2017.4.17 in /usr/local/lib/python3.11/dist-packages (from requests) (2025.1.31)\n",
            "Requirement already satisfied: soupsieve>1.2 in /usr/local/lib/python3.11/dist-packages (from beautifulsoup4) (2.6)\n",
            "Requirement already satisfied: typing-extensions>=4.0.0 in /usr/local/lib/python3.11/dist-packages (from beautifulsoup4) (4.12.2)\n"
          ]
        }
      ]
    },
    {
      "cell_type": "markdown",
      "source": [
        "Scraping des données et stockage dans excel :  Script de scraping permetant d’extraire les données DONE\n",
        "• Données extraites en Excel DONE"
      ],
      "metadata": {
        "id": "YQWvLGmwaWHh"
      }
    },
    {
      "cell_type": "code",
      "source": [
        "import requests\n",
        "from bs4 import BeautifulSoup\n",
        "import pandas as pd\n",
        "\n",
        "# URL de la page à scraper\n",
        "url = \"http://www.tunisie-annonce.com/AnnoncesImmobilier.asp\"\n",
        "\n",
        "# Envoyer une requête GET à la page\n",
        "response = requests.get(url)\n",
        "response.encoding = \"ISO-8859-1\"  # S'assurer du bon encodage\n",
        "\n",
        "# Vérifier que la requête a réussi\n",
        "if response.status_code == 200:\n",
        "    soup = BeautifulSoup(response.text, \"html.parser\")\n",
        "\n",
        "    # Trouver toutes les lignes d'annonces (les <tr> qui contiennent les annonces)\n",
        "    annonces = soup.find_all(\"tr\", class_=\"Tableau1\")\n",
        "\n",
        "    # Liste pour stocker les données extraites\n",
        "    resultats = []\n",
        "\n",
        "    for annonce in annonces:\n",
        "        cols = annonce.find_all(\"td\")\n",
        "\n",
        "        if len(cols) >= 6:  # Vérifier qu'il y a assez de colonnes\n",
        "            region = cols[1].get_text(strip=True)\n",
        "            nature = cols[3].get_text(strip=True)\n",
        "            type_annonce = cols[5].get_text(strip=True)\n",
        "            texte_annonce = cols[7].get_text(strip=True)\n",
        "            prix = cols[9].get_text(strip=True)\n",
        "            date_modif = cols[11].get_text(strip=True)\n",
        "\n",
        "            # Ajouter à la liste des résultats\n",
        "            resultats.append({\n",
        "                \"Région\": region,\n",
        "                \"Nature\": nature,\n",
        "                \"Type\": type_annonce,\n",
        "                \"Texte\": texte_annonce,\n",
        "                \"Prix\": prix,\n",
        "                \"Modifiée\": date_modif\n",
        "            })\n",
        "\n",
        "    # Convertir les données en DataFrame Pandas\n",
        "    df = pd.DataFrame(resultats)\n",
        "\n",
        "    # Exporter vers un fichier Excel\n",
        "    df.to_excel(\"annonces.xlsx\", index=False, engine='openpyxl')\n",
        "\n",
        "    print(\"Les données ont été enregistrées dans annonces.xlsx\")\n",
        "\n",
        "else:\n",
        "    print(\"Erreur lors du chargement de la page\")\n"
      ],
      "metadata": {
        "colab": {
          "base_uri": "https://localhost:8080/"
        },
        "id": "C0_cEQksTgQc",
        "outputId": "d5d802ea-7668-4595-b755-25053dcd2e8b"
      },
      "execution_count": 89,
      "outputs": [
        {
          "output_type": "stream",
          "name": "stdout",
          "text": [
            "Les données ont été enregistrées dans annonces.xlsx\n"
          ]
        }
      ]
    },
    {
      "cell_type": "markdown",
      "source": [
        "Installation des dépendances"
      ],
      "metadata": {
        "id": "ZWEfDZw3a638"
      }
    },
    {
      "cell_type": "code",
      "source": [
        "!pip install fastapi uvicorn nest_asyncio pyngrok requests pandas openpyxl bs4\n"
      ],
      "metadata": {
        "colab": {
          "base_uri": "https://localhost:8080/"
        },
        "id": "nnsRklOtaRja",
        "outputId": "7a500b9f-de85-4ef4-92b3-d9441afcdd2f"
      },
      "execution_count": 101,
      "outputs": [
        {
          "output_type": "stream",
          "name": "stdout",
          "text": [
            "Requirement already satisfied: fastapi in /usr/local/lib/python3.11/dist-packages (0.115.11)\n",
            "Requirement already satisfied: uvicorn in /usr/local/lib/python3.11/dist-packages (0.34.0)\n",
            "Requirement already satisfied: nest_asyncio in /usr/local/lib/python3.11/dist-packages (1.6.0)\n",
            "Requirement already satisfied: pyngrok in /usr/local/lib/python3.11/dist-packages (7.2.3)\n",
            "Requirement already satisfied: requests in /usr/local/lib/python3.11/dist-packages (2.32.3)\n",
            "Requirement already satisfied: pandas in /usr/local/lib/python3.11/dist-packages (2.2.2)\n",
            "Requirement already satisfied: openpyxl in /usr/local/lib/python3.11/dist-packages (3.1.5)\n",
            "Collecting bs4\n",
            "  Downloading bs4-0.0.2-py2.py3-none-any.whl.metadata (411 bytes)\n",
            "Requirement already satisfied: starlette<0.47.0,>=0.40.0 in /usr/local/lib/python3.11/dist-packages (from fastapi) (0.46.1)\n",
            "Requirement already satisfied: pydantic!=1.8,!=1.8.1,!=2.0.0,!=2.0.1,!=2.1.0,<3.0.0,>=1.7.4 in /usr/local/lib/python3.11/dist-packages (from fastapi) (2.10.6)\n",
            "Requirement already satisfied: typing-extensions>=4.8.0 in /usr/local/lib/python3.11/dist-packages (from fastapi) (4.12.2)\n",
            "Requirement already satisfied: click>=7.0 in /usr/local/lib/python3.11/dist-packages (from uvicorn) (8.1.8)\n",
            "Requirement already satisfied: h11>=0.8 in /usr/local/lib/python3.11/dist-packages (from uvicorn) (0.14.0)\n",
            "Requirement already satisfied: PyYAML>=5.1 in /usr/local/lib/python3.11/dist-packages (from pyngrok) (6.0.2)\n",
            "Requirement already satisfied: charset-normalizer<4,>=2 in /usr/local/lib/python3.11/dist-packages (from requests) (3.4.1)\n",
            "Requirement already satisfied: idna<4,>=2.5 in /usr/local/lib/python3.11/dist-packages (from requests) (3.10)\n",
            "Requirement already satisfied: urllib3<3,>=1.21.1 in /usr/local/lib/python3.11/dist-packages (from requests) (2.3.0)\n",
            "Requirement already satisfied: certifi>=2017.4.17 in /usr/local/lib/python3.11/dist-packages (from requests) (2025.1.31)\n",
            "Requirement already satisfied: numpy>=1.23.2 in /usr/local/lib/python3.11/dist-packages (from pandas) (2.0.2)\n",
            "Requirement already satisfied: python-dateutil>=2.8.2 in /usr/local/lib/python3.11/dist-packages (from pandas) (2.8.2)\n",
            "Requirement already satisfied: pytz>=2020.1 in /usr/local/lib/python3.11/dist-packages (from pandas) (2025.1)\n",
            "Requirement already satisfied: tzdata>=2022.7 in /usr/local/lib/python3.11/dist-packages (from pandas) (2025.1)\n",
            "Requirement already satisfied: et-xmlfile in /usr/local/lib/python3.11/dist-packages (from openpyxl) (2.0.0)\n",
            "Requirement already satisfied: beautifulsoup4 in /usr/local/lib/python3.11/dist-packages (from bs4) (4.13.3)\n",
            "Requirement already satisfied: annotated-types>=0.6.0 in /usr/local/lib/python3.11/dist-packages (from pydantic!=1.8,!=1.8.1,!=2.0.0,!=2.0.1,!=2.1.0,<3.0.0,>=1.7.4->fastapi) (0.7.0)\n",
            "Requirement already satisfied: pydantic-core==2.27.2 in /usr/local/lib/python3.11/dist-packages (from pydantic!=1.8,!=1.8.1,!=2.0.0,!=2.0.1,!=2.1.0,<3.0.0,>=1.7.4->fastapi) (2.27.2)\n",
            "Requirement already satisfied: six>=1.5 in /usr/local/lib/python3.11/dist-packages (from python-dateutil>=2.8.2->pandas) (1.17.0)\n",
            "Requirement already satisfied: anyio<5,>=3.6.2 in /usr/local/lib/python3.11/dist-packages (from starlette<0.47.0,>=0.40.0->fastapi) (4.9.0)\n",
            "Requirement already satisfied: soupsieve>1.2 in /usr/local/lib/python3.11/dist-packages (from beautifulsoup4->bs4) (2.6)\n",
            "Requirement already satisfied: sniffio>=1.1 in /usr/local/lib/python3.11/dist-packages (from anyio<5,>=3.6.2->starlette<0.47.0,>=0.40.0->fastapi) (1.3.1)\n",
            "Downloading bs4-0.0.2-py2.py3-none-any.whl (1.2 kB)\n",
            "Installing collected packages: bs4\n",
            "Successfully installed bs4-0.0.2\n"
          ]
        }
      ]
    },
    {
      "cell_type": "markdown",
      "source": [
        "Implémentation de l’API avec FastAPI"
      ],
      "metadata": {
        "id": "FxLf1oIgbAHC"
      }
    },
    {
      "cell_type": "code",
      "source": [
        "!ngrok config add-authtoken 2ub8U4p67DYslVunez1y39LwG3G_679fw6hYuxbWNQZy3QTbW"
      ],
      "metadata": {
        "colab": {
          "base_uri": "https://localhost:8080/"
        },
        "id": "G_caLkqid56n",
        "outputId": "756db5ce-46b9-4381-d89d-c09a18d58997"
      },
      "execution_count": 104,
      "outputs": [
        {
          "output_type": "stream",
          "name": "stdout",
          "text": [
            "Authtoken saved to configuration file: /root/.config/ngrok/ngrok.yml\n"
          ]
        }
      ]
    },
    {
      "cell_type": "markdown",
      "source": [
        "API REST opérationnelle permetant d’extraire et d’accéder aux données sur POSTMAN.  DONE"
      ],
      "metadata": {
        "id": "2ZQ2UFcehgv1"
      }
    },
    {
      "cell_type": "code",
      "source": [
        "import requests\n",
        "from bs4 import BeautifulSoup\n",
        "import pandas as pd\n",
        "from fastapi import FastAPI\n",
        "import nest_asyncio\n",
        "from pyngrok import ngrok\n",
        "import uvicorn\n",
        "\n",
        "# Initialiser FastAPI\n",
        "app = FastAPI()\n",
        "\n",
        "# Stockage temporaire des annonces\n",
        "annonces_data = []\n",
        "\n",
        "# Fonction pour scraper les annonces\n",
        "def scraper():\n",
        "    global annonces_data\n",
        "    url = \"http://www.tunisie-annonce.com/AnnoncesImmobilier.asp\"\n",
        "    response = requests.get(url)\n",
        "    response.encoding = \"ISO-8859-1\"  # S'assurer du bon encodage\n",
        "\n",
        "    if response.status_code == 200:\n",
        "        soup = BeautifulSoup(response.text, \"html.parser\")\n",
        "        annonces = soup.find_all(\"tr\", class_=\"Tableau1\")\n",
        "\n",
        "        resultats = []\n",
        "        for annonce in annonces:\n",
        "            cols = annonce.find_all(\"td\")\n",
        "            if len(cols) >= 6:  # Vérifier qu'il y a assez de colonnes\n",
        "                resultats.append({\n",
        "                    \"Région\": cols[1].get_text(strip=True),\n",
        "                    \"Nature\": cols[3].get_text(strip=True),\n",
        "                    \"Type\": cols[5].get_text(strip=True),\n",
        "                    \"Texte\": cols[7].get_text(strip=True),\n",
        "                    \"Prix\": cols[9].get_text(strip=True),\n",
        "                    \"Modifiée\": cols[11].get_text(strip=True)\n",
        "                })\n",
        "\n",
        "        annonces_data = resultats\n",
        "        return resultats\n",
        "    return []\n",
        "\n",
        "# Endpoint pour récupérer les annonces\n",
        "@app.get(\"/annonces\")\n",
        "def get_annonces():\n",
        "    return {\"total\": len(annonces_data), \"data\": annonces_data}\n",
        "\n",
        "# Endpoint pour lancer un nouveau scraping\n",
        "@app.post(\"/scrape\")\n",
        "def scrape():\n",
        "    global annonces_data\n",
        "    annonces_data = scraper()\n",
        "    return {\"message\": \"Scraping terminé et données mises à jour\", \"total\": len(annonces_data)}\n",
        "\n",
        "# Autoriser l'exécution asynchrone dans Google Colab\n",
        "nest_asyncio.apply()\n",
        "\n",
        "# Lancer le serveur FastAPI avec ngrok\n",
        "port = 8000\n",
        "ngrok_tunnel = ngrok.connect(port)\n",
        "print(f\"🚀 API accessible ici : {ngrok_tunnel.public_url}/docs\")\n",
        "\n",
        "# Démarrer l'application FastAPI\n",
        "uvicorn.run(app, host=\"0.0.0.0\", port=port)\n"
      ],
      "metadata": {
        "colab": {
          "base_uri": "https://localhost:8080/"
        },
        "id": "5Hof8LUEaRlh",
        "outputId": "cadf3a51-0c02-4328-fe9d-557fc0fa363e"
      },
      "execution_count": 108,
      "outputs": [
        {
          "output_type": "stream",
          "name": "stdout",
          "text": [
            "🚀 API accessible ici : https://2f5d-35-222-104-157.ngrok-free.app/docs\n"
          ]
        },
        {
          "output_type": "stream",
          "name": "stderr",
          "text": [
            "INFO:     Started server process [234]\n",
            "INFO:     Waiting for application startup.\n",
            "INFO:     Application startup complete.\n",
            "INFO:     Uvicorn running on http://0.0.0.0:8000 (Press CTRL+C to quit)\n",
            "INFO:     Shutting down\n",
            "INFO:     Waiting for application shutdown.\n",
            "INFO:     Application shutdown complete.\n",
            "INFO:     Finished server process [234]\n"
          ]
        }
      ]
    },
    {
      "cell_type": "markdown",
      "source": [
        "https://16d6-35-222-104-157.ngrok-free.app/docs"
      ],
      "metadata": {
        "id": "3Ebe3meeeTfG"
      }
    },
    {
      "cell_type": "code",
      "source": [],
      "metadata": {
        "id": "69vn4hJliaW8"
      },
      "execution_count": null,
      "outputs": []
    }
  ]
}